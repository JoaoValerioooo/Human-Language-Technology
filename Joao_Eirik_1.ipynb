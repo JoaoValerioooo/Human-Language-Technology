{
  "cells": [
    {
      "cell_type": "markdown",
      "metadata": {
        "id": "hWJt8OphEZCN"
      },
      "source": [
        "## Corpus Reader\n",
        "Students:\n",
        "1.   João Valério\n",
        "2.   Eirik Grytøyr\n",
        "\n",
        "\n",
        "\n"
      ]
    },
    {
      "cell_type": "code",
      "execution_count": 1,
      "metadata": {
        "id": "4cecct04EUsB"
      },
      "outputs": [],
      "source": [
        "import nltk"
      ]
    },
    {
      "cell_type": "code",
      "execution_count": 2,
      "metadata": {
        "colab": {
          "base_uri": "https://localhost:8080/"
        },
        "id": "L4ZuwU7AEtX7",
        "outputId": "37655cec-88aa-4e97-8ce1-48ad9cf4a2be"
      },
      "outputs": [
        {
          "output_type": "stream",
          "name": "stderr",
          "text": [
            "[nltk_data] Downloading package gutenberg to /root/nltk_data...\n",
            "[nltk_data]   Unzipping corpora/gutenberg.zip.\n",
            "[nltk_data] Downloading package stopwords to /root/nltk_data...\n",
            "[nltk_data]   Unzipping corpora/stopwords.zip.\n"
          ]
        }
      ],
      "source": [
        "# Load the file blake-poems.txt\n",
        "nltk.download('gutenberg')\n",
        "nltk.corpus.gutenberg.fileids()\n",
        "originalPoem = nltk.corpus.gutenberg.words('blake-poems.txt')\n",
        "\n",
        "# Load the stop word set\n",
        "nltk.download('stopwords')\n",
        "stopWordSet = set(nltk.corpus.stopwords.words('english'))"
      ]
    },
    {
      "cell_type": "code",
      "execution_count": 3,
      "metadata": {
        "id": "kub3ZQEz-Zcz"
      },
      "outputs": [],
      "source": [
        "# Dictionary that counts the frequency of each valid word\n",
        "wordCounter = {}\n",
        "\n",
        "for word in originalPoem:\n",
        "  wordLowerCase = word.lower()\n",
        "\n",
        "  # Checking the validity of the word\n",
        "  if (not wordLowerCase.isalpha() or wordLowerCase in stopWordSet):\n",
        "    continue\n",
        "\n",
        "  # Updating the valid words in the dictionary\n",
        "  if (wordLowerCase not in wordCounter):\n",
        "    wordCounter[wordLowerCase] = 0\n",
        "  wordCounter[wordLowerCase] += 1\n",
        "\n",
        "# Sorting the Dictionary in descending order and then alphabetically for the same value\n",
        "wordCounterSorted = sorted(wordCounter.items(),key = lambda  x: (-x[1],x[0]))\n",
        "\n",
        "# 25 most common words in the poem\n",
        "Output = wordCounterSorted[:25]"
      ]
    },
    {
      "cell_type": "code",
      "execution_count": 4,
      "metadata": {
        "colab": {
          "base_uri": "https://localhost:8080/"
        },
        "id": "ObLNa0Yn-dCn",
        "outputId": "e490a21b-4360-4f98-c28b-99cbe72978db"
      },
      "outputs": [
        {
          "output_type": "stream",
          "name": "stdout",
          "text": [
            "[('little', 45), ('thee', 42), ('like', 35), ('thou', 35), ('thy', 31), ('love', 29), ('night', 28), ('sweet', 28), ('joy', 25), ('away', 24), ('weep', 24), ('father', 22), ('sleep', 21), ('day', 19), ('happy', 19), ('mother', 19), ('shall', 19), ('child', 18), ('every', 17), ('never', 17), ('er', 16), ('green', 16), ('hear', 16), ('human', 16), ('infant', 16)]\n"
          ]
        }
      ],
      "source": [
        "# Output\n",
        "print(Output)"
      ]
    },
    {
      "cell_type": "markdown",
      "metadata": {
        "id": "dAgfvXxxByZ2"
      },
      "source": [
        "In conclusion, the 25 most common words are:\n",
        "('little', 45)\n",
        "('thee', 42)\n",
        "('like', 35)\n",
        "('thou', 35)\n",
        "('thy', 31)\n",
        "('love', 29)\n",
        "('night', 28)\n",
        "('sweet', 28)\n",
        "('joy', 25)\n",
        "('away', 24)\n",
        "('weep', 24)\n",
        "('father', 22)\n",
        "('sleep', 21)\n",
        "('day', 19)\n",
        "('happy', 19)\n",
        "('mother', 19)\n",
        "('shall', 19)\n",
        "('child', 18)\n",
        "('every', 17)\n",
        "('never', 17)\n",
        "('er', 16)\n",
        "('green', 16)\n",
        "('hear', 16)\n",
        "('human', 16)\n",
        "('infant', 16)\n",
        "\n",
        "The valid words were obtained accordingly to the following specifications:\n",
        "1.   Numbers, punctuation and special characters are not words;\n",
        "2.   Words contained by the English stop word set are not valid to the counting;\n",
        "3.   Interjections are considered valid, due to their presence in the English dictionary;\n",
        "4.   It was considered that the valid words in the variable originalPoem were separated from the elements referred to in point 1.\n",
        "\n",
        "The output has the succeeding considerations:\n",
        "1.   The words are ordered in descending order;\n",
        "2.   For the same frequency the words are ordered accordingly to the alphabet;\n",
        "3.   All the words in the output are lowercase."
      ]
    }
  ],
  "metadata": {
    "colab": {
      "collapsed_sections": [],
      "provenance": []
    },
    "kernelspec": {
      "display_name": "Python 3",
      "name": "python3"
    },
    "language_info": {
      "name": "python"
    }
  },
  "nbformat": 4,
  "nbformat_minor": 0
}