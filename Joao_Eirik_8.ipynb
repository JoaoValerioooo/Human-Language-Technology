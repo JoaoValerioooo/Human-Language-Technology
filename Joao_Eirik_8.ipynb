{
  "nbformat": 4,
  "nbformat_minor": 0,
  "metadata": {
    "colab": {
      "provenance": []
    },
    "kernelspec": {
      "name": "python3",
      "display_name": "Python 3"
    },
    "language_info": {
      "name": "python"
    }
  },
  "cells": [
    {
      "cell_type": "markdown",
      "metadata": {
        "id": "pUbPkPbhjibO"
      },
      "source": [
        "## Mandatory Exercise"
      ]
    },
    {
      "cell_type": "code",
      "source": [
        "pip install svgling"
      ],
      "metadata": {
        "colab": {
          "base_uri": "https://localhost:8080/"
        },
        "id": "AoqF6IQxJUw1",
        "outputId": "83db3d95-97c8-4143-eef3-84c245c3b908"
      },
      "execution_count": null,
      "outputs": [
        {
          "output_type": "stream",
          "name": "stdout",
          "text": [
            "Looking in indexes: https://pypi.org/simple, https://us-python.pkg.dev/colab-wheels/public/simple/\n",
            "Collecting svgling\n",
            "  Downloading svgling-0.3.1-py3-none-any.whl (21 kB)\n",
            "Collecting svgwrite\n",
            "  Downloading svgwrite-1.4.3-py3-none-any.whl (67 kB)\n",
            "\u001b[K     |████████████████████████████████| 67 kB 3.1 MB/s \n",
            "\u001b[?25hInstalling collected packages: svgwrite, svgling\n",
            "Successfully installed svgling-0.3.1 svgwrite-1.4.3\n"
          ]
        }
      ]
    },
    {
      "cell_type": "code",
      "metadata": {
        "id": "c33_G7Pijb74"
      },
      "source": [
        "import nltk\n",
        "import pandas\n",
        "import svgling\n",
        "from nltk import CFG, ChartParser\n",
        "from nltk import BottomUpChartParser, BottomUpLeftCornerChartParser, LeftCornerChartParser\n",
        "\n",
        "#Grammar with expansion\n",
        "grammar = CFG.fromstring('''\n",
        "  S   -> NP VP  NP\n",
        "  NP  -> NNS | JJ NNS | NP CC NP\n",
        "  VP  -> V P\n",
        "  NNS -> \"cats\" | \"mice\" | NNS CC NNS \n",
        "  JJ  -> \"lazy\"\n",
        "  V   -> \"play\"\n",
        "  P  -> \"with\"\n",
        "  ''')\n",
        "\n",
        "parser = ChartParser(grammar, trace=1)"
      ],
      "execution_count": null,
      "outputs": []
    },
    {
      "cell_type": "code",
      "source": [
        "sent = ['lazy', 'cats', 'play', 'with', 'mice']\n",
        "parse = parser.parse(sent)"
      ],
      "metadata": {
        "colab": {
          "base_uri": "https://localhost:8080/"
        },
        "id": "KKewPaOgAGzC",
        "outputId": "e62bca19-40b6-4730-f07f-a80f548971c6"
      },
      "execution_count": null,
      "outputs": [
        {
          "output_type": "stream",
          "name": "stdout",
          "text": [
            "|.  lazy .  cats .  play .  with .  mice .|\n",
            "|[-------]       .       .       .       .| [0:1] 'lazy'\n",
            "|.       [-------]       .       .       .| [1:2] 'cats'\n",
            "|.       .       [-------]       .       .| [2:3] 'play'\n",
            "|.       .       .       [-------]       .| [3:4] 'with'\n",
            "|.       .       .       .       [-------]| [4:5] 'mice'\n",
            "|[-------]       .       .       .       .| [0:1] JJ -> 'lazy' *\n",
            "|[------->       .       .       .       .| [0:1] NP -> JJ * NNS\n",
            "|.       [-------]       .       .       .| [1:2] NNS -> 'cats' *\n",
            "|.       [-------]       .       .       .| [1:2] NP -> NNS *\n",
            "|.       [------->       .       .       .| [1:2] NNS -> NNS * CC NNS\n",
            "|[---------------]       .       .       .| [0:2] NP -> JJ NNS *\n",
            "|[--------------->       .       .       .| [0:2] S  -> NP * VP NP\n",
            "|[--------------->       .       .       .| [0:2] NP -> NP * CC NP\n",
            "|.       [------->       .       .       .| [1:2] S  -> NP * VP NP\n",
            "|.       [------->       .       .       .| [1:2] NP -> NP * CC NP\n",
            "|.       .       [-------]       .       .| [2:3] V  -> 'play' *\n",
            "|.       .       [------->       .       .| [2:3] VP -> V * P\n",
            "|.       .       .       [-------]       .| [3:4] P  -> 'with' *\n",
            "|.       .       [---------------]       .| [2:4] VP -> V P *\n",
            "|[------------------------------->       .| [0:4] S  -> NP VP * NP\n",
            "|.       [----------------------->       .| [1:4] S  -> NP VP * NP\n",
            "|.       .       .       .       [-------]| [4:5] NNS -> 'mice' *\n",
            "|.       .       .       .       [-------]| [4:5] NP -> NNS *\n",
            "|.       .       .       .       [------->| [4:5] NNS -> NNS * CC NNS\n",
            "|.       .       .       .       [------->| [4:5] S  -> NP * VP NP\n",
            "|.       .       .       .       [------->| [4:5] NP -> NP * CC NP\n",
            "|[=======================================]| [0:5] S  -> NP VP NP *\n",
            "|.       [-------------------------------]| [1:5] S  -> NP VP NP *\n"
          ]
        }
      ]
    },
    {
      "cell_type": "markdown",
      "source": [
        "# bottomUpChartParser"
      ],
      "metadata": {
        "id": "UdiLnlI2smSj"
      }
    },
    {
      "cell_type": "code",
      "source": [
        "bottomUpChartParser = BottomUpChartParser(grammar)\n",
        "bottomUpChartParserparse = bottomUpChartParser.parse(sent)\n",
        "bottomUpChartTrees = [t for t in bottomUpChartParserparse]\n",
        "print(f\"bottomUpChart has {bottomUpChartParser.chart_parse(sent).num_edges()} edges\")"
      ],
      "metadata": {
        "colab": {
          "base_uri": "https://localhost:8080/"
        },
        "id": "9CATjFRbDWyz",
        "outputId": "c8f29f3f-d809-4435-92b3-8796de03c39b"
      },
      "execution_count": null,
      "outputs": [
        {
          "output_type": "stream",
          "name": "stdout",
          "text": [
            "bottomUpChart has 45 edges\n"
          ]
        }
      ]
    },
    {
      "cell_type": "code",
      "source": [
        "# Printing the tree\n",
        "bottomUpChartTrees[0]"
      ],
      "metadata": {
        "colab": {
          "base_uri": "https://localhost:8080/",
          "height": 189
        },
        "id": "fd_Pkm9_HR4E",
        "outputId": "49ba7d43-c6bb-4276-8daf-39bd6e27cf1a"
      },
      "execution_count": null,
      "outputs": [
        {
          "output_type": "execute_result",
          "data": {
            "text/plain": [
              "Tree('S', [Tree('NP', [Tree('JJ', ['lazy']), Tree('NNS', ['cats'])]), Tree('VP', [Tree('V', ['play']), Tree('P', ['with'])]), Tree('NP', [Tree('NNS', ['mice'])])])"
            ],
            "image/svg+xml": "<svg baseProfile=\"full\" height=\"168px\" preserveAspectRatio=\"xMidYMid meet\" style=\"font-family: times, serif; font-weight:normal; font-style: normal; font-size: 16px;\" version=\"1.1\" viewBox=\"0,0,240.0,168.0\" width=\"240px\" xmlns=\"http://www.w3.org/2000/svg\" xmlns:ev=\"http://www.w3.org/2001/xml-events\" xmlns:xlink=\"http://www.w3.org/1999/xlink\"><defs /><svg width=\"100%\" x=\"0\" y=\"0em\"><defs /><text text-anchor=\"middle\" x=\"50%\" y=\"1em\">S</text></svg><svg width=\"40%\" x=\"0%\" y=\"3em\"><defs /><svg width=\"100%\" x=\"0\" y=\"0em\"><defs /><text text-anchor=\"middle\" x=\"50%\" y=\"1em\">NP</text></svg><svg width=\"50%\" x=\"0%\" y=\"3em\"><defs /><svg width=\"100%\" x=\"0\" y=\"0em\"><defs /><text text-anchor=\"middle\" x=\"50%\" y=\"1em\">JJ</text></svg><svg width=\"100%\" x=\"0%\" y=\"3em\"><defs /><svg width=\"100%\" x=\"0\" y=\"0em\"><defs /><text text-anchor=\"middle\" x=\"50%\" y=\"1em\">lazy</text></svg></svg><line stroke=\"black\" x1=\"50%\" x2=\"50%\" y1=\"1.2em\" y2=\"3em\" /></svg><line stroke=\"black\" x1=\"50%\" x2=\"25%\" y1=\"1.2em\" y2=\"3em\" /><svg width=\"50%\" x=\"50%\" y=\"3em\"><defs /><svg width=\"100%\" x=\"0\" y=\"0em\"><defs /><text text-anchor=\"middle\" x=\"50%\" y=\"1em\">NNS</text></svg><svg width=\"100%\" x=\"0%\" y=\"3em\"><defs /><svg width=\"100%\" x=\"0\" y=\"0em\"><defs /><text text-anchor=\"middle\" x=\"50%\" y=\"1em\">cats</text></svg></svg><line stroke=\"black\" x1=\"50%\" x2=\"50%\" y1=\"1.2em\" y2=\"3em\" /></svg><line stroke=\"black\" x1=\"50%\" x2=\"75%\" y1=\"1.2em\" y2=\"3em\" /></svg><line stroke=\"black\" x1=\"50%\" x2=\"20%\" y1=\"1.2em\" y2=\"3em\" /><svg width=\"40%\" x=\"40%\" y=\"3em\"><defs /><svg width=\"100%\" x=\"0\" y=\"0em\"><defs /><text text-anchor=\"middle\" x=\"50%\" y=\"1em\">VP</text></svg><svg width=\"50%\" x=\"0%\" y=\"3em\"><defs /><svg width=\"100%\" x=\"0\" y=\"0em\"><defs /><text text-anchor=\"middle\" x=\"50%\" y=\"1em\">V</text></svg><svg width=\"100%\" x=\"0%\" y=\"3em\"><defs /><svg width=\"100%\" x=\"0\" y=\"0em\"><defs /><text text-anchor=\"middle\" x=\"50%\" y=\"1em\">play</text></svg></svg><line stroke=\"black\" x1=\"50%\" x2=\"50%\" y1=\"1.2em\" y2=\"3em\" /></svg><line stroke=\"black\" x1=\"50%\" x2=\"25%\" y1=\"1.2em\" y2=\"3em\" /><svg width=\"50%\" x=\"50%\" y=\"3em\"><defs /><svg width=\"100%\" x=\"0\" y=\"0em\"><defs /><text text-anchor=\"middle\" x=\"50%\" y=\"1em\">P</text></svg><svg width=\"100%\" x=\"0%\" y=\"3em\"><defs /><svg width=\"100%\" x=\"0\" y=\"0em\"><defs /><text text-anchor=\"middle\" x=\"50%\" y=\"1em\">with</text></svg></svg><line stroke=\"black\" x1=\"50%\" x2=\"50%\" y1=\"1.2em\" y2=\"3em\" /></svg><line stroke=\"black\" x1=\"50%\" x2=\"75%\" y1=\"1.2em\" y2=\"3em\" /></svg><line stroke=\"black\" x1=\"50%\" x2=\"60%\" y1=\"1.2em\" y2=\"3em\" /><svg width=\"20%\" x=\"80%\" y=\"3em\"><defs /><svg width=\"100%\" x=\"0\" y=\"0em\"><defs /><text text-anchor=\"middle\" x=\"50%\" y=\"1em\">NP</text></svg><svg width=\"100%\" x=\"0%\" y=\"3em\"><defs /><svg width=\"100%\" x=\"0\" y=\"0em\"><defs /><text text-anchor=\"middle\" x=\"50%\" y=\"1em\">NNS</text></svg><svg width=\"100%\" x=\"0%\" y=\"3em\"><defs /><svg width=\"100%\" x=\"0\" y=\"0em\"><defs /><text text-anchor=\"middle\" x=\"50%\" y=\"1em\">mice</text></svg></svg><line stroke=\"black\" x1=\"50%\" x2=\"50%\" y1=\"1.2em\" y2=\"3em\" /></svg><line stroke=\"black\" x1=\"50%\" x2=\"50%\" y1=\"1.2em\" y2=\"3em\" /></svg><line stroke=\"black\" x1=\"50%\" x2=\"90%\" y1=\"1.2em\" y2=\"3em\" /></svg>"
          },
          "metadata": {},
          "execution_count": 5
        }
      ]
    },
    {
      "cell_type": "code",
      "source": [
        "bottomUpChartEdges = bottomUpChartParser.chart_parse(sent)._edge_to_cpls"
      ],
      "metadata": {
        "id": "Tj0j05BOJqq3"
      },
      "execution_count": null,
      "outputs": []
    },
    {
      "cell_type": "code",
      "source": [
        "bottomUpChartEdges"
      ],
      "metadata": {
        "colab": {
          "base_uri": "https://localhost:8080/"
        },
        "id": "2ZaELyClKYWG",
        "outputId": "e55bb58f-f5e2-4389-9643-e31bb97d5d68"
      },
      "execution_count": null,
      "outputs": [
        {
          "output_type": "execute_result",
          "data": {
            "text/plain": [
              "{[Edge: [0:1] 'lazy']: {(): True},\n",
              " [Edge: [1:2] 'cats']: {(): True},\n",
              " [Edge: [2:3] 'play']: {(): True},\n",
              " [Edge: [3:4] 'with']: {(): True},\n",
              " [Edge: [4:5] 'mice']: {(): True},\n",
              " [Edge: [0:0] JJ -> * 'lazy']: {(): True},\n",
              " [Edge: [0:1] JJ -> 'lazy' *]: {([Edge: [0:1] 'lazy'],): True},\n",
              " [Edge: [0:0] NP -> * JJ NNS]: {(): True},\n",
              " [Edge: [0:1] NP -> JJ * NNS]: {([Edge: [0:1] JJ -> 'lazy' *],): True},\n",
              " [Edge: [1:1] NNS -> * 'cats']: {(): True},\n",
              " [Edge: [1:2] NNS -> 'cats' *]: {([Edge: [1:2] 'cats'],): True},\n",
              " [Edge: [1:1] NP -> * NNS]: {(): True},\n",
              " [Edge: [1:1] NNS -> * NNS CC NNS]: {(): True},\n",
              " [Edge: [0:2] NP -> JJ NNS *]: {([Edge: [0:1] JJ -> 'lazy' *],\n",
              "   [Edge: [1:2] NNS -> 'cats' *]): True},\n",
              " [Edge: [1:2] NP -> NNS *]: {([Edge: [1:2] NNS -> 'cats' *],): True},\n",
              " [Edge: [1:2] NNS -> NNS * CC NNS]: {([Edge: [1:2] NNS -> 'cats' *],): True},\n",
              " [Edge: [1:1] S  -> * NP VP NP]: {(): True},\n",
              " [Edge: [1:1] NP -> * NP CC NP]: {(): True},\n",
              " [Edge: [1:2] S  -> NP * VP NP]: {([Edge: [1:2] NP -> NNS *],): True},\n",
              " [Edge: [1:2] NP -> NP * CC NP]: {([Edge: [1:2] NP -> NNS *],): True},\n",
              " [Edge: [0:0] S  -> * NP VP NP]: {(): True},\n",
              " [Edge: [0:0] NP -> * NP CC NP]: {(): True},\n",
              " [Edge: [0:2] S  -> NP * VP NP]: {([Edge: [0:2] NP -> JJ NNS *],): True},\n",
              " [Edge: [0:2] NP -> NP * CC NP]: {([Edge: [0:2] NP -> JJ NNS *],): True},\n",
              " [Edge: [2:2] V  -> * 'play']: {(): True},\n",
              " [Edge: [2:3] V  -> 'play' *]: {([Edge: [2:3] 'play'],): True},\n",
              " [Edge: [2:2] VP -> * V P]: {(): True},\n",
              " [Edge: [2:3] VP -> V * P]: {([Edge: [2:3] V  -> 'play' *],): True},\n",
              " [Edge: [3:3] P  -> * 'with']: {(): True},\n",
              " [Edge: [3:4] P  -> 'with' *]: {([Edge: [3:4] 'with'],): True},\n",
              " [Edge: [2:4] VP -> V P *]: {([Edge: [2:3] V  -> 'play' *],\n",
              "   [Edge: [3:4] P  -> 'with' *]): True},\n",
              " [Edge: [1:4] S  -> NP VP * NP]: {([Edge: [1:2] NP -> NNS *],\n",
              "   [Edge: [2:4] VP -> V P *]): True},\n",
              " [Edge: [0:4] S  -> NP VP * NP]: {([Edge: [0:2] NP -> JJ NNS *],\n",
              "   [Edge: [2:4] VP -> V P *]): True},\n",
              " [Edge: [4:4] NNS -> * 'mice']: {(): True},\n",
              " [Edge: [4:5] NNS -> 'mice' *]: {([Edge: [4:5] 'mice'],): True},\n",
              " [Edge: [4:4] NP -> * NNS]: {(): True},\n",
              " [Edge: [4:4] NNS -> * NNS CC NNS]: {(): True},\n",
              " [Edge: [4:5] NP -> NNS *]: {([Edge: [4:5] NNS -> 'mice' *],): True},\n",
              " [Edge: [4:5] NNS -> NNS * CC NNS]: {([Edge: [4:5] NNS -> 'mice' *],): True},\n",
              " [Edge: [4:4] S  -> * NP VP NP]: {(): True},\n",
              " [Edge: [4:4] NP -> * NP CC NP]: {(): True},\n",
              " [Edge: [1:5] S  -> NP VP NP *]: {([Edge: [1:2] NP -> NNS *],\n",
              "   [Edge: [2:4] VP -> V P *],\n",
              "   [Edge: [4:5] NP -> NNS *]): True},\n",
              " [Edge: [0:5] S  -> NP VP NP *]: {([Edge: [0:2] NP -> JJ NNS *],\n",
              "   [Edge: [2:4] VP -> V P *],\n",
              "   [Edge: [4:5] NP -> NNS *]): True},\n",
              " [Edge: [4:5] S  -> NP * VP NP]: {([Edge: [4:5] NP -> NNS *],): True},\n",
              " [Edge: [4:5] NP -> NP * CC NP]: {([Edge: [4:5] NP -> NNS *],): True}}"
            ]
          },
          "metadata": {},
          "execution_count": 7
        }
      ]
    },
    {
      "cell_type": "markdown",
      "source": [
        "# bottomUpLeftCornerChartParser"
      ],
      "metadata": {
        "id": "AzuA70l5stmj"
      }
    },
    {
      "cell_type": "code",
      "source": [
        "bottomUpLeftCornerChartParser = BottomUpLeftCornerChartParser(grammar)\n",
        "bottomUpLeftCornerChartParserparse = bottomUpLeftCornerChartParser.parse(sent)\n",
        "bottomUpLeftCornerChartTrees = [t for t in bottomUpLeftCornerChartParserparse]\n",
        "print(f\"bottomUpLeftCornerChart has {bottomUpLeftCornerChartParser.chart_parse(sent).num_edges()} number of edges\" )"
      ],
      "metadata": {
        "colab": {
          "base_uri": "https://localhost:8080/"
        },
        "id": "x7QLZ0r4NqxR",
        "outputId": "5bcf9b60-a716-4180-f317-e64dc63ad137"
      },
      "execution_count": null,
      "outputs": [
        {
          "output_type": "stream",
          "name": "stdout",
          "text": [
            "bottomUpLeftCornerChart has 28 number of edges\n"
          ]
        }
      ]
    },
    {
      "cell_type": "code",
      "source": [
        "# Printing the tree\n",
        "bottomUpLeftCornerChartTrees[0]"
      ],
      "metadata": {
        "colab": {
          "base_uri": "https://localhost:8080/",
          "height": 189
        },
        "id": "abm8MZoBNt00",
        "outputId": "3c7069a7-4353-4e79-cbba-a17adb08ab43"
      },
      "execution_count": null,
      "outputs": [
        {
          "output_type": "execute_result",
          "data": {
            "text/plain": [
              "Tree('S', [Tree('NP', [Tree('JJ', ['lazy']), Tree('NNS', ['cats'])]), Tree('VP', [Tree('V', ['play']), Tree('P', ['with'])]), Tree('NP', [Tree('NNS', ['mice'])])])"
            ],
            "image/svg+xml": "<svg baseProfile=\"full\" height=\"168px\" preserveAspectRatio=\"xMidYMid meet\" style=\"font-family: times, serif; font-weight:normal; font-style: normal; font-size: 16px;\" version=\"1.1\" viewBox=\"0,0,240.0,168.0\" width=\"240px\" xmlns=\"http://www.w3.org/2000/svg\" xmlns:ev=\"http://www.w3.org/2001/xml-events\" xmlns:xlink=\"http://www.w3.org/1999/xlink\"><defs /><svg width=\"100%\" x=\"0\" y=\"0em\"><defs /><text text-anchor=\"middle\" x=\"50%\" y=\"1em\">S</text></svg><svg width=\"40%\" x=\"0%\" y=\"3em\"><defs /><svg width=\"100%\" x=\"0\" y=\"0em\"><defs /><text text-anchor=\"middle\" x=\"50%\" y=\"1em\">NP</text></svg><svg width=\"50%\" x=\"0%\" y=\"3em\"><defs /><svg width=\"100%\" x=\"0\" y=\"0em\"><defs /><text text-anchor=\"middle\" x=\"50%\" y=\"1em\">JJ</text></svg><svg width=\"100%\" x=\"0%\" y=\"3em\"><defs /><svg width=\"100%\" x=\"0\" y=\"0em\"><defs /><text text-anchor=\"middle\" x=\"50%\" y=\"1em\">lazy</text></svg></svg><line stroke=\"black\" x1=\"50%\" x2=\"50%\" y1=\"1.2em\" y2=\"3em\" /></svg><line stroke=\"black\" x1=\"50%\" x2=\"25%\" y1=\"1.2em\" y2=\"3em\" /><svg width=\"50%\" x=\"50%\" y=\"3em\"><defs /><svg width=\"100%\" x=\"0\" y=\"0em\"><defs /><text text-anchor=\"middle\" x=\"50%\" y=\"1em\">NNS</text></svg><svg width=\"100%\" x=\"0%\" y=\"3em\"><defs /><svg width=\"100%\" x=\"0\" y=\"0em\"><defs /><text text-anchor=\"middle\" x=\"50%\" y=\"1em\">cats</text></svg></svg><line stroke=\"black\" x1=\"50%\" x2=\"50%\" y1=\"1.2em\" y2=\"3em\" /></svg><line stroke=\"black\" x1=\"50%\" x2=\"75%\" y1=\"1.2em\" y2=\"3em\" /></svg><line stroke=\"black\" x1=\"50%\" x2=\"20%\" y1=\"1.2em\" y2=\"3em\" /><svg width=\"40%\" x=\"40%\" y=\"3em\"><defs /><svg width=\"100%\" x=\"0\" y=\"0em\"><defs /><text text-anchor=\"middle\" x=\"50%\" y=\"1em\">VP</text></svg><svg width=\"50%\" x=\"0%\" y=\"3em\"><defs /><svg width=\"100%\" x=\"0\" y=\"0em\"><defs /><text text-anchor=\"middle\" x=\"50%\" y=\"1em\">V</text></svg><svg width=\"100%\" x=\"0%\" y=\"3em\"><defs /><svg width=\"100%\" x=\"0\" y=\"0em\"><defs /><text text-anchor=\"middle\" x=\"50%\" y=\"1em\">play</text></svg></svg><line stroke=\"black\" x1=\"50%\" x2=\"50%\" y1=\"1.2em\" y2=\"3em\" /></svg><line stroke=\"black\" x1=\"50%\" x2=\"25%\" y1=\"1.2em\" y2=\"3em\" /><svg width=\"50%\" x=\"50%\" y=\"3em\"><defs /><svg width=\"100%\" x=\"0\" y=\"0em\"><defs /><text text-anchor=\"middle\" x=\"50%\" y=\"1em\">P</text></svg><svg width=\"100%\" x=\"0%\" y=\"3em\"><defs /><svg width=\"100%\" x=\"0\" y=\"0em\"><defs /><text text-anchor=\"middle\" x=\"50%\" y=\"1em\">with</text></svg></svg><line stroke=\"black\" x1=\"50%\" x2=\"50%\" y1=\"1.2em\" y2=\"3em\" /></svg><line stroke=\"black\" x1=\"50%\" x2=\"75%\" y1=\"1.2em\" y2=\"3em\" /></svg><line stroke=\"black\" x1=\"50%\" x2=\"60%\" y1=\"1.2em\" y2=\"3em\" /><svg width=\"20%\" x=\"80%\" y=\"3em\"><defs /><svg width=\"100%\" x=\"0\" y=\"0em\"><defs /><text text-anchor=\"middle\" x=\"50%\" y=\"1em\">NP</text></svg><svg width=\"100%\" x=\"0%\" y=\"3em\"><defs /><svg width=\"100%\" x=\"0\" y=\"0em\"><defs /><text text-anchor=\"middle\" x=\"50%\" y=\"1em\">NNS</text></svg><svg width=\"100%\" x=\"0%\" y=\"3em\"><defs /><svg width=\"100%\" x=\"0\" y=\"0em\"><defs /><text text-anchor=\"middle\" x=\"50%\" y=\"1em\">mice</text></svg></svg><line stroke=\"black\" x1=\"50%\" x2=\"50%\" y1=\"1.2em\" y2=\"3em\" /></svg><line stroke=\"black\" x1=\"50%\" x2=\"50%\" y1=\"1.2em\" y2=\"3em\" /></svg><line stroke=\"black\" x1=\"50%\" x2=\"90%\" y1=\"1.2em\" y2=\"3em\" /></svg>"
          },
          "metadata": {},
          "execution_count": 9
        }
      ]
    },
    {
      "cell_type": "code",
      "source": [
        "# Getting the list of explored edges\n",
        "bottomUpLeftCornerChartEdges = bottomUpLeftCornerChartParser.chart_parse(sent)._edge_to_cpls"
      ],
      "metadata": {
        "id": "6blOO9ZfN18n"
      },
      "execution_count": null,
      "outputs": []
    },
    {
      "cell_type": "code",
      "source": [
        "# Printing the list of explored edges\n",
        "bottomUpLeftCornerChartEdges"
      ],
      "metadata": {
        "colab": {
          "base_uri": "https://localhost:8080/"
        },
        "id": "DVAk_3x0N2zo",
        "outputId": "0caa2ecb-4619-4433-e831-883e979ec114"
      },
      "execution_count": null,
      "outputs": [
        {
          "output_type": "execute_result",
          "data": {
            "text/plain": [
              "{[Edge: [0:1] 'lazy']: {(): True},\n",
              " [Edge: [1:2] 'cats']: {(): True},\n",
              " [Edge: [2:3] 'play']: {(): True},\n",
              " [Edge: [3:4] 'with']: {(): True},\n",
              " [Edge: [4:5] 'mice']: {(): True},\n",
              " [Edge: [0:1] JJ -> 'lazy' *]: {([Edge: [0:1] 'lazy'],): True},\n",
              " [Edge: [0:1] NP -> JJ * NNS]: {([Edge: [0:1] JJ -> 'lazy' *],): True},\n",
              " [Edge: [1:2] NNS -> 'cats' *]: {([Edge: [1:2] 'cats'],): True},\n",
              " [Edge: [1:2] NP -> NNS *]: {([Edge: [1:2] NNS -> 'cats' *],): True},\n",
              " [Edge: [1:2] NNS -> NNS * CC NNS]: {([Edge: [1:2] NNS -> 'cats' *],): True},\n",
              " [Edge: [0:2] NP -> JJ NNS *]: {([Edge: [0:1] JJ -> 'lazy' *],\n",
              "   [Edge: [1:2] NNS -> 'cats' *]): True},\n",
              " [Edge: [0:2] S  -> NP * VP NP]: {([Edge: [0:2] NP -> JJ NNS *],): True},\n",
              " [Edge: [0:2] NP -> NP * CC NP]: {([Edge: [0:2] NP -> JJ NNS *],): True},\n",
              " [Edge: [1:2] S  -> NP * VP NP]: {([Edge: [1:2] NP -> NNS *],): True},\n",
              " [Edge: [1:2] NP -> NP * CC NP]: {([Edge: [1:2] NP -> NNS *],): True},\n",
              " [Edge: [2:3] V  -> 'play' *]: {([Edge: [2:3] 'play'],): True},\n",
              " [Edge: [2:3] VP -> V * P]: {([Edge: [2:3] V  -> 'play' *],): True},\n",
              " [Edge: [3:4] P  -> 'with' *]: {([Edge: [3:4] 'with'],): True},\n",
              " [Edge: [2:4] VP -> V P *]: {([Edge: [2:3] V  -> 'play' *],\n",
              "   [Edge: [3:4] P  -> 'with' *]): True},\n",
              " [Edge: [0:4] S  -> NP VP * NP]: {([Edge: [0:2] NP -> JJ NNS *],\n",
              "   [Edge: [2:4] VP -> V P *]): True},\n",
              " [Edge: [1:4] S  -> NP VP * NP]: {([Edge: [1:2] NP -> NNS *],\n",
              "   [Edge: [2:4] VP -> V P *]): True},\n",
              " [Edge: [4:5] NNS -> 'mice' *]: {([Edge: [4:5] 'mice'],): True},\n",
              " [Edge: [4:5] NP -> NNS *]: {([Edge: [4:5] NNS -> 'mice' *],): True},\n",
              " [Edge: [4:5] NNS -> NNS * CC NNS]: {([Edge: [4:5] NNS -> 'mice' *],): True},\n",
              " [Edge: [4:5] S  -> NP * VP NP]: {([Edge: [4:5] NP -> NNS *],): True},\n",
              " [Edge: [4:5] NP -> NP * CC NP]: {([Edge: [4:5] NP -> NNS *],): True},\n",
              " [Edge: [0:5] S  -> NP VP NP *]: {([Edge: [0:2] NP -> JJ NNS *],\n",
              "   [Edge: [2:4] VP -> V P *],\n",
              "   [Edge: [4:5] NP -> NNS *]): True},\n",
              " [Edge: [1:5] S  -> NP VP NP *]: {([Edge: [1:2] NP -> NNS *],\n",
              "   [Edge: [2:4] VP -> V P *],\n",
              "   [Edge: [4:5] NP -> NNS *]): True}}"
            ]
          },
          "metadata": {},
          "execution_count": 11
        }
      ]
    },
    {
      "cell_type": "markdown",
      "source": [
        "# leftCornerChartParser"
      ],
      "metadata": {
        "id": "FJzkNdnps3UX"
      }
    },
    {
      "cell_type": "code",
      "source": [
        "leftCornerChartParser = LeftCornerChartParser(grammar)\n",
        "leftCornerChartParserparse = leftCornerChartParser.parse(sent)\n",
        "leftCornerChartTrees = [t for t in leftCornerChartParserparse]\n",
        "print(f\"leftCornerChart has {leftCornerChartParser.chart_parse(sent).num_edges()} number of edges\")"
      ],
      "metadata": {
        "colab": {
          "base_uri": "https://localhost:8080/"
        },
        "id": "8pGC4feTLo2R",
        "outputId": "74d89ae2-2c62-473f-d56a-0d3460b94d5d"
      },
      "execution_count": null,
      "outputs": [
        {
          "output_type": "stream",
          "name": "stdout",
          "text": [
            "leftCornerChart has 22 number of edges\n"
          ]
        }
      ]
    },
    {
      "cell_type": "code",
      "source": [
        "# Printing the tree\n",
        "leftCornerChartTrees[0]"
      ],
      "metadata": {
        "colab": {
          "base_uri": "https://localhost:8080/",
          "height": 189
        },
        "id": "sdbqr0n1MiEi",
        "outputId": "4175cc0a-0fda-4ed3-e65d-c32f032c24e2"
      },
      "execution_count": null,
      "outputs": [
        {
          "output_type": "execute_result",
          "data": {
            "text/plain": [
              "Tree('S', [Tree('NP', [Tree('JJ', ['lazy']), Tree('NNS', ['cats'])]), Tree('VP', [Tree('V', ['play']), Tree('P', ['with'])]), Tree('NP', [Tree('NNS', ['mice'])])])"
            ],
            "image/svg+xml": "<svg baseProfile=\"full\" height=\"168px\" preserveAspectRatio=\"xMidYMid meet\" style=\"font-family: times, serif; font-weight:normal; font-style: normal; font-size: 16px;\" version=\"1.1\" viewBox=\"0,0,240.0,168.0\" width=\"240px\" xmlns=\"http://www.w3.org/2000/svg\" xmlns:ev=\"http://www.w3.org/2001/xml-events\" xmlns:xlink=\"http://www.w3.org/1999/xlink\"><defs /><svg width=\"100%\" x=\"0\" y=\"0em\"><defs /><text text-anchor=\"middle\" x=\"50%\" y=\"1em\">S</text></svg><svg width=\"40%\" x=\"0%\" y=\"3em\"><defs /><svg width=\"100%\" x=\"0\" y=\"0em\"><defs /><text text-anchor=\"middle\" x=\"50%\" y=\"1em\">NP</text></svg><svg width=\"50%\" x=\"0%\" y=\"3em\"><defs /><svg width=\"100%\" x=\"0\" y=\"0em\"><defs /><text text-anchor=\"middle\" x=\"50%\" y=\"1em\">JJ</text></svg><svg width=\"100%\" x=\"0%\" y=\"3em\"><defs /><svg width=\"100%\" x=\"0\" y=\"0em\"><defs /><text text-anchor=\"middle\" x=\"50%\" y=\"1em\">lazy</text></svg></svg><line stroke=\"black\" x1=\"50%\" x2=\"50%\" y1=\"1.2em\" y2=\"3em\" /></svg><line stroke=\"black\" x1=\"50%\" x2=\"25%\" y1=\"1.2em\" y2=\"3em\" /><svg width=\"50%\" x=\"50%\" y=\"3em\"><defs /><svg width=\"100%\" x=\"0\" y=\"0em\"><defs /><text text-anchor=\"middle\" x=\"50%\" y=\"1em\">NNS</text></svg><svg width=\"100%\" x=\"0%\" y=\"3em\"><defs /><svg width=\"100%\" x=\"0\" y=\"0em\"><defs /><text text-anchor=\"middle\" x=\"50%\" y=\"1em\">cats</text></svg></svg><line stroke=\"black\" x1=\"50%\" x2=\"50%\" y1=\"1.2em\" y2=\"3em\" /></svg><line stroke=\"black\" x1=\"50%\" x2=\"75%\" y1=\"1.2em\" y2=\"3em\" /></svg><line stroke=\"black\" x1=\"50%\" x2=\"20%\" y1=\"1.2em\" y2=\"3em\" /><svg width=\"40%\" x=\"40%\" y=\"3em\"><defs /><svg width=\"100%\" x=\"0\" y=\"0em\"><defs /><text text-anchor=\"middle\" x=\"50%\" y=\"1em\">VP</text></svg><svg width=\"50%\" x=\"0%\" y=\"3em\"><defs /><svg width=\"100%\" x=\"0\" y=\"0em\"><defs /><text text-anchor=\"middle\" x=\"50%\" y=\"1em\">V</text></svg><svg width=\"100%\" x=\"0%\" y=\"3em\"><defs /><svg width=\"100%\" x=\"0\" y=\"0em\"><defs /><text text-anchor=\"middle\" x=\"50%\" y=\"1em\">play</text></svg></svg><line stroke=\"black\" x1=\"50%\" x2=\"50%\" y1=\"1.2em\" y2=\"3em\" /></svg><line stroke=\"black\" x1=\"50%\" x2=\"25%\" y1=\"1.2em\" y2=\"3em\" /><svg width=\"50%\" x=\"50%\" y=\"3em\"><defs /><svg width=\"100%\" x=\"0\" y=\"0em\"><defs /><text text-anchor=\"middle\" x=\"50%\" y=\"1em\">P</text></svg><svg width=\"100%\" x=\"0%\" y=\"3em\"><defs /><svg width=\"100%\" x=\"0\" y=\"0em\"><defs /><text text-anchor=\"middle\" x=\"50%\" y=\"1em\">with</text></svg></svg><line stroke=\"black\" x1=\"50%\" x2=\"50%\" y1=\"1.2em\" y2=\"3em\" /></svg><line stroke=\"black\" x1=\"50%\" x2=\"75%\" y1=\"1.2em\" y2=\"3em\" /></svg><line stroke=\"black\" x1=\"50%\" x2=\"60%\" y1=\"1.2em\" y2=\"3em\" /><svg width=\"20%\" x=\"80%\" y=\"3em\"><defs /><svg width=\"100%\" x=\"0\" y=\"0em\"><defs /><text text-anchor=\"middle\" x=\"50%\" y=\"1em\">NP</text></svg><svg width=\"100%\" x=\"0%\" y=\"3em\"><defs /><svg width=\"100%\" x=\"0\" y=\"0em\"><defs /><text text-anchor=\"middle\" x=\"50%\" y=\"1em\">NNS</text></svg><svg width=\"100%\" x=\"0%\" y=\"3em\"><defs /><svg width=\"100%\" x=\"0\" y=\"0em\"><defs /><text text-anchor=\"middle\" x=\"50%\" y=\"1em\">mice</text></svg></svg><line stroke=\"black\" x1=\"50%\" x2=\"50%\" y1=\"1.2em\" y2=\"3em\" /></svg><line stroke=\"black\" x1=\"50%\" x2=\"50%\" y1=\"1.2em\" y2=\"3em\" /></svg><line stroke=\"black\" x1=\"50%\" x2=\"90%\" y1=\"1.2em\" y2=\"3em\" /></svg>"
          },
          "metadata": {},
          "execution_count": 13
        }
      ]
    },
    {
      "cell_type": "code",
      "source": [
        "# Getting the list of explored edges\n",
        "lCChartParserEdges = leftCornerChartParser.chart_parse(sent)._edge_to_cpls"
      ],
      "metadata": {
        "id": "JZc_PDJlM1eE"
      },
      "execution_count": null,
      "outputs": []
    },
    {
      "cell_type": "code",
      "source": [
        "# Printing the list of explored edges\n",
        "lCChartParserEdges"
      ],
      "metadata": {
        "colab": {
          "base_uri": "https://localhost:8080/"
        },
        "id": "Mu-AnbyeNaOc",
        "outputId": "a8cadfcb-5ab6-4a29-ad66-9e66308bb13f"
      },
      "execution_count": null,
      "outputs": [
        {
          "output_type": "execute_result",
          "data": {
            "text/plain": [
              "{[Edge: [0:1] 'lazy']: {(): True},\n",
              " [Edge: [1:2] 'cats']: {(): True},\n",
              " [Edge: [2:3] 'play']: {(): True},\n",
              " [Edge: [3:4] 'with']: {(): True},\n",
              " [Edge: [4:5] 'mice']: {(): True},\n",
              " [Edge: [0:1] JJ -> 'lazy' *]: {([Edge: [0:1] 'lazy'],): True},\n",
              " [Edge: [0:1] NP -> JJ * NNS]: {([Edge: [0:1] JJ -> 'lazy' *],): True},\n",
              " [Edge: [1:2] NNS -> 'cats' *]: {([Edge: [1:2] 'cats'],): True},\n",
              " [Edge: [1:2] NP -> NNS *]: {([Edge: [1:2] NNS -> 'cats' *],): True},\n",
              " [Edge: [0:2] NP -> JJ NNS *]: {([Edge: [0:1] JJ -> 'lazy' *],\n",
              "   [Edge: [1:2] NNS -> 'cats' *]): True},\n",
              " [Edge: [0:2] S  -> NP * VP NP]: {([Edge: [0:2] NP -> JJ NNS *],): True},\n",
              " [Edge: [1:2] S  -> NP * VP NP]: {([Edge: [1:2] NP -> NNS *],): True},\n",
              " [Edge: [2:3] V  -> 'play' *]: {([Edge: [2:3] 'play'],): True},\n",
              " [Edge: [2:3] VP -> V * P]: {([Edge: [2:3] V  -> 'play' *],): True},\n",
              " [Edge: [3:4] P  -> 'with' *]: {([Edge: [3:4] 'with'],): True},\n",
              " [Edge: [2:4] VP -> V P *]: {([Edge: [2:3] V  -> 'play' *],\n",
              "   [Edge: [3:4] P  -> 'with' *]): True},\n",
              " [Edge: [0:4] S  -> NP VP * NP]: {([Edge: [0:2] NP -> JJ NNS *],\n",
              "   [Edge: [2:4] VP -> V P *]): True},\n",
              " [Edge: [1:4] S  -> NP VP * NP]: {([Edge: [1:2] NP -> NNS *],\n",
              "   [Edge: [2:4] VP -> V P *]): True},\n",
              " [Edge: [4:5] NNS -> 'mice' *]: {([Edge: [4:5] 'mice'],): True},\n",
              " [Edge: [4:5] NP -> NNS *]: {([Edge: [4:5] NNS -> 'mice' *],): True},\n",
              " [Edge: [0:5] S  -> NP VP NP *]: {([Edge: [0:2] NP -> JJ NNS *],\n",
              "   [Edge: [2:4] VP -> V P *],\n",
              "   [Edge: [4:5] NP -> NNS *]): True},\n",
              " [Edge: [1:5] S  -> NP VP NP *]: {([Edge: [1:2] NP -> NNS *],\n",
              "   [Edge: [2:4] VP -> V P *],\n",
              "   [Edge: [4:5] NP -> NNS *]): True}}"
            ]
          },
          "metadata": {},
          "execution_count": 15
        }
      ]
    },
    {
      "cell_type": "markdown",
      "source": [
        "# Conclusion\n",
        "\n",
        "1. The number of explored edges for each strategy is:\n",
        "*   bottomUpChartParser: 45\n",
        "*   bottomUpLeftCornerChartParser: 28\n",
        "*   leftCornerChartParser: 23\n",
        "\n",
        "   Thus, due to the lowest number of edges to explore, the leftCornerChartParser is the most efficient parser.\n",
        "\n",
        "2. Related to the filtering of edges:\n",
        "* The bottomUpChartParser strategy filters no edges.\n",
        "  In this approach, the starting point is the input string and from that is tried to combine words recurring to grammar rules. So any combinations that are possible are considered, independent of the sequence we might be looking for. Thus, no edges are filtered in the process.\n",
        "* The bottomUpLeftCornerChartParser filters out edges without any word subsumption.\n",
        "  BottomUpLeftCornerChartParser filters out edges without any word subsumption because the word exploration is executed from the left level by level.\n",
        "* The leftCornerChartParser is filtering out edges\n",
        "without new word subsumptions.\n",
        "  In leftCornerChartParser, there is a combination of bottom-up and top-down strategies, which allows for some filtering. In this strategy, the bottom-up process is conducted normally accordingly to a given rule, however, if the left corner recognizes that a node k1 is satisfactory, then the dominant nodes of k1 and the remaining ones are predicted through a top-down approach.\n",
        "\n",
        "\n",
        "\n",
        "\n"
      ],
      "metadata": {
        "id": "IXbJCM4aTK1L"
      }
    },
    {
      "cell_type": "markdown",
      "source": [
        "# Optional exercise"
      ],
      "metadata": {
        "id": "OAgEvMFjcm_d"
      }
    },
    {
      "cell_type": "code",
      "source": [
        "import nltk\n",
        "import spacy\n",
        "nlp = spacy.load('en_core_web_sm')\n",
        "nltk.download('wordnet')"
      ],
      "metadata": {
        "colab": {
          "base_uri": "https://localhost:8080/"
        },
        "id": "5Lvl8lz7cyac",
        "outputId": "334a6fb7-f087-402f-fd8e-ce9d6bda6297"
      },
      "execution_count": null,
      "outputs": [
        {
          "output_type": "stream",
          "name": "stderr",
          "text": [
            "[nltk_data] Downloading package wordnet to /root/nltk_data...\n"
          ]
        },
        {
          "output_type": "execute_result",
          "data": {
            "text/plain": [
              "True"
            ]
          },
          "metadata": {},
          "execution_count": 16
        }
      ]
    },
    {
      "cell_type": "code",
      "source": [
        "# Getting the file STS.input.SMTeuroparl.txt from drive into a DataFrame\n",
        "from google.colab import drive\n",
        "drive.mount('/content/drive')\n",
        "import pandas as pd\n",
        "dt = pd.read_csv('/content/drive/MyDrive/test-gold/test-gold/STS.input.SMTeuroparl.txt',sep='\\t',header=None)\n",
        "# Updating the DataFrame with a new column with STS.gs.SMTeuroparl.txt\n",
        "dt['gs'] = pd.read_csv('/content/drive/MyDrive/test-gold/test-gold/STS.gs.SMTeuroparl.txt',sep='\\t',header=None)"
      ],
      "metadata": {
        "colab": {
          "base_uri": "https://localhost:8080/"
        },
        "id": "NqnFuZ3Zc01C",
        "outputId": "cb2e8879-77b8-410d-dcb6-e64bcc11749e"
      },
      "execution_count": null,
      "outputs": [
        {
          "output_type": "stream",
          "name": "stdout",
          "text": [
            "Mounted at /content/drive\n"
          ]
        }
      ]
    },
    {
      "cell_type": "code",
      "source": [
        "import re\n",
        "# Getting a list of stop words\n",
        "nltk.download('stopwords')\n",
        "stopWordSet = set(nltk.corpus.stopwords.words('english'))\n",
        "\n",
        "# Cleaning the words\n",
        "def cleaner (sentenceList):\n",
        "  \n",
        "  # Filtering the ponctuation and stop words\n",
        "  sentenceList = list(filter(lambda word : re.search('''[!\"#$%&'()*+, -./:;<=>?@[\\]^_`{|}~]+''', word[0]) == None and word[0] not in stopWordSet, sentenceList))\n",
        "\n",
        "  return sentenceList"
      ],
      "metadata": {
        "colab": {
          "base_uri": "https://localhost:8080/"
        },
        "id": "5HSyjY2pc0yp",
        "outputId": "905641c1-9f0e-46ec-9431-a97b89f186da"
      },
      "execution_count": null,
      "outputs": [
        {
          "output_type": "stream",
          "name": "stderr",
          "text": [
            "[nltk_data] Downloading package stopwords to /root/nltk_data...\n",
            "[nltk_data]   Unzipping corpora/stopwords.zip.\n"
          ]
        }
      ]
    },
    {
      "cell_type": "code",
      "source": [
        "from nltk.metrics import jaccard_distance\n",
        "import numpy as np\n",
        "\n",
        "limit = len(dt[0][:])\n",
        "\n",
        "for id in range(limit):\n",
        "  \n",
        "  dependesies1, dependesies2 = nlp(dt.loc[id,0]), nlp(dt.loc[id,1])\n",
        "\n",
        "  # Triples as individual tokens:\n",
        "  tripleTokens1 = np.array([[token.text.lower(), token.tag_, token.dep_] for token in dependesies1])\n",
        "  tripleTokens1 = tripleTokens1.reshape(tripleTokens1.shape[0]*tripleTokens1.shape[1])\n",
        "  tripleTokens2 = np.array([[token.text.lower(), token.tag_, token.dep_] for token in dependesies2])\n",
        "  tripleTokens2 = tripleTokens2.reshape(tripleTokens2.shape[0]*tripleTokens2.shape[1])\n",
        "  \n",
        "  # Cleaning \n",
        "  cleanedText1, cleanedText2 = cleaner(tripleTokens1), cleaner(tripleTokens2)\n",
        "\n",
        "  #Triples as concatinated words:\n",
        "  tripleConcatinations1 = np.array([str([token.text.lower(), token.tag_, token.dep_]) for token in dependesies1])\n",
        "  tripleConcatinations2 = np.array([str([token.text.lower(), token.tag_, token.dep_]) for token in dependesies2])\n",
        "\n",
        "  # Updating the DataFrame with the similarities according to the method jaccard \n",
        "  dt.loc[id,'Dependency triples individual'] = jaccard_distance(set(cleanedText1), set(cleanedText2))\n",
        "  dt.loc[id,'Dependency triples combined'] = jaccard_distance(set(tripleConcatinations1), set(tripleConcatinations2))"
      ],
      "metadata": {
        "id": "8Kdp8YZIc0wZ"
      },
      "execution_count": null,
      "outputs": []
    },
    {
      "cell_type": "code",
      "source": [
        "display(dt)"
      ],
      "metadata": {
        "colab": {
          "base_uri": "https://localhost:8080/",
          "height": 424
        },
        "id": "X1xrSw2Kc0oQ",
        "outputId": "7d696dfc-f844-4823-b7f4-2c2fb99c5f13"
      },
      "execution_count": null,
      "outputs": [
        {
          "output_type": "display_data",
          "data": {
            "text/plain": [
              "                                                     0  \\\n",
              "0    The leaders have now been given a new chance a...   \n",
              "1    Amendment No 7 proposes certain changes in the...   \n",
              "2    Let me remind you that our allies include ferv...   \n",
              "3          The vote will take place today at 5.30 p.m.   \n",
              "4    The fishermen are inactive, tired and disappoi...   \n",
              "..                                                 ...   \n",
              "454  It is our job to continue to support Latvia wi...   \n",
              "455        The vote will take place today at 5.30 p.m.   \n",
              "456  Neither was there a qualified majority within ...   \n",
              "457  Let me remind you that our allies include ferv...   \n",
              "458  We often pontificate here about being the repr...   \n",
              "\n",
              "                                                     1     gs  \\\n",
              "0    The leaders benefit aujourd' hui of a new luck...  4.500   \n",
              "1    Amendment No 7 is proposing certain changes in...  5.000   \n",
              "2    I would like to remind you that among our alli...  4.250   \n",
              "3                   The vote will take place at 5.30pm  4.500   \n",
              "4    The fishermen are inactive, tired and disappoi...  5.000   \n",
              "..                                                 ...    ...   \n",
              "454  It is of our duty of continue to support the c...  5.000   \n",
              "455                   Vote will take place at 17 h 30.  4.750   \n",
              "456  There was no qualified majority in this Parlia...  5.000   \n",
              "457  I hold you recall that our allies, there are e...  4.000   \n",
              "458  We often take pride here to represent the citi...  3.833   \n",
              "\n",
              "     Dependency triples individual  Dependency triples combined  \n",
              "0                         0.485714                     0.758621  \n",
              "1                         0.136364                     0.333333  \n",
              "2                         0.346154                     0.720000  \n",
              "3                         0.315789                     0.400000  \n",
              "4                         0.000000                     0.000000  \n",
              "..                             ...                          ...  \n",
              "454                       0.307692                     0.450000  \n",
              "455                       0.409091                     0.615385  \n",
              "456                       0.366667                     0.500000  \n",
              "457                       0.400000                     0.791667  \n",
              "458                       0.384615                     0.588235  \n",
              "\n",
              "[459 rows x 5 columns]"
            ],
            "text/html": [
              "\n",
              "  <div id=\"df-dcf9fbd5-2cb1-40bf-8cff-f99500be58eb\">\n",
              "    <div class=\"colab-df-container\">\n",
              "      <div>\n",
              "<style scoped>\n",
              "    .dataframe tbody tr th:only-of-type {\n",
              "        vertical-align: middle;\n",
              "    }\n",
              "\n",
              "    .dataframe tbody tr th {\n",
              "        vertical-align: top;\n",
              "    }\n",
              "\n",
              "    .dataframe thead th {\n",
              "        text-align: right;\n",
              "    }\n",
              "</style>\n",
              "<table border=\"1\" class=\"dataframe\">\n",
              "  <thead>\n",
              "    <tr style=\"text-align: right;\">\n",
              "      <th></th>\n",
              "      <th>0</th>\n",
              "      <th>1</th>\n",
              "      <th>gs</th>\n",
              "      <th>Dependency triples individual</th>\n",
              "      <th>Dependency triples combined</th>\n",
              "    </tr>\n",
              "  </thead>\n",
              "  <tbody>\n",
              "    <tr>\n",
              "      <th>0</th>\n",
              "      <td>The leaders have now been given a new chance a...</td>\n",
              "      <td>The leaders benefit aujourd' hui of a new luck...</td>\n",
              "      <td>4.500</td>\n",
              "      <td>0.485714</td>\n",
              "      <td>0.758621</td>\n",
              "    </tr>\n",
              "    <tr>\n",
              "      <th>1</th>\n",
              "      <td>Amendment No 7 proposes certain changes in the...</td>\n",
              "      <td>Amendment No 7 is proposing certain changes in...</td>\n",
              "      <td>5.000</td>\n",
              "      <td>0.136364</td>\n",
              "      <td>0.333333</td>\n",
              "    </tr>\n",
              "    <tr>\n",
              "      <th>2</th>\n",
              "      <td>Let me remind you that our allies include ferv...</td>\n",
              "      <td>I would like to remind you that among our alli...</td>\n",
              "      <td>4.250</td>\n",
              "      <td>0.346154</td>\n",
              "      <td>0.720000</td>\n",
              "    </tr>\n",
              "    <tr>\n",
              "      <th>3</th>\n",
              "      <td>The vote will take place today at 5.30 p.m.</td>\n",
              "      <td>The vote will take place at 5.30pm</td>\n",
              "      <td>4.500</td>\n",
              "      <td>0.315789</td>\n",
              "      <td>0.400000</td>\n",
              "    </tr>\n",
              "    <tr>\n",
              "      <th>4</th>\n",
              "      <td>The fishermen are inactive, tired and disappoi...</td>\n",
              "      <td>The fishermen are inactive, tired and disappoi...</td>\n",
              "      <td>5.000</td>\n",
              "      <td>0.000000</td>\n",
              "      <td>0.000000</td>\n",
              "    </tr>\n",
              "    <tr>\n",
              "      <th>...</th>\n",
              "      <td>...</td>\n",
              "      <td>...</td>\n",
              "      <td>...</td>\n",
              "      <td>...</td>\n",
              "      <td>...</td>\n",
              "    </tr>\n",
              "    <tr>\n",
              "      <th>454</th>\n",
              "      <td>It is our job to continue to support Latvia wi...</td>\n",
              "      <td>It is of our duty of continue to support the c...</td>\n",
              "      <td>5.000</td>\n",
              "      <td>0.307692</td>\n",
              "      <td>0.450000</td>\n",
              "    </tr>\n",
              "    <tr>\n",
              "      <th>455</th>\n",
              "      <td>The vote will take place today at 5.30 p.m.</td>\n",
              "      <td>Vote will take place at 17 h 30.</td>\n",
              "      <td>4.750</td>\n",
              "      <td>0.409091</td>\n",
              "      <td>0.615385</td>\n",
              "    </tr>\n",
              "    <tr>\n",
              "      <th>456</th>\n",
              "      <td>Neither was there a qualified majority within ...</td>\n",
              "      <td>There was no qualified majority in this Parlia...</td>\n",
              "      <td>5.000</td>\n",
              "      <td>0.366667</td>\n",
              "      <td>0.500000</td>\n",
              "    </tr>\n",
              "    <tr>\n",
              "      <th>457</th>\n",
              "      <td>Let me remind you that our allies include ferv...</td>\n",
              "      <td>I hold you recall that our allies, there are e...</td>\n",
              "      <td>4.000</td>\n",
              "      <td>0.400000</td>\n",
              "      <td>0.791667</td>\n",
              "    </tr>\n",
              "    <tr>\n",
              "      <th>458</th>\n",
              "      <td>We often pontificate here about being the repr...</td>\n",
              "      <td>We often take pride here to represent the citi...</td>\n",
              "      <td>3.833</td>\n",
              "      <td>0.384615</td>\n",
              "      <td>0.588235</td>\n",
              "    </tr>\n",
              "  </tbody>\n",
              "</table>\n",
              "<p>459 rows × 5 columns</p>\n",
              "</div>\n",
              "      <button class=\"colab-df-convert\" onclick=\"convertToInteractive('df-dcf9fbd5-2cb1-40bf-8cff-f99500be58eb')\"\n",
              "              title=\"Convert this dataframe to an interactive table.\"\n",
              "              style=\"display:none;\">\n",
              "        \n",
              "  <svg xmlns=\"http://www.w3.org/2000/svg\" height=\"24px\"viewBox=\"0 0 24 24\"\n",
              "       width=\"24px\">\n",
              "    <path d=\"M0 0h24v24H0V0z\" fill=\"none\"/>\n",
              "    <path d=\"M18.56 5.44l.94 2.06.94-2.06 2.06-.94-2.06-.94-.94-2.06-.94 2.06-2.06.94zm-11 1L8.5 8.5l.94-2.06 2.06-.94-2.06-.94L8.5 2.5l-.94 2.06-2.06.94zm10 10l.94 2.06.94-2.06 2.06-.94-2.06-.94-.94-2.06-.94 2.06-2.06.94z\"/><path d=\"M17.41 7.96l-1.37-1.37c-.4-.4-.92-.59-1.43-.59-.52 0-1.04.2-1.43.59L10.3 9.45l-7.72 7.72c-.78.78-.78 2.05 0 2.83L4 21.41c.39.39.9.59 1.41.59.51 0 1.02-.2 1.41-.59l7.78-7.78 2.81-2.81c.8-.78.8-2.07 0-2.86zM5.41 20L4 18.59l7.72-7.72 1.47 1.35L5.41 20z\"/>\n",
              "  </svg>\n",
              "      </button>\n",
              "      \n",
              "  <style>\n",
              "    .colab-df-container {\n",
              "      display:flex;\n",
              "      flex-wrap:wrap;\n",
              "      gap: 12px;\n",
              "    }\n",
              "\n",
              "    .colab-df-convert {\n",
              "      background-color: #E8F0FE;\n",
              "      border: none;\n",
              "      border-radius: 50%;\n",
              "      cursor: pointer;\n",
              "      display: none;\n",
              "      fill: #1967D2;\n",
              "      height: 32px;\n",
              "      padding: 0 0 0 0;\n",
              "      width: 32px;\n",
              "    }\n",
              "\n",
              "    .colab-df-convert:hover {\n",
              "      background-color: #E2EBFA;\n",
              "      box-shadow: 0px 1px 2px rgba(60, 64, 67, 0.3), 0px 1px 3px 1px rgba(60, 64, 67, 0.15);\n",
              "      fill: #174EA6;\n",
              "    }\n",
              "\n",
              "    [theme=dark] .colab-df-convert {\n",
              "      background-color: #3B4455;\n",
              "      fill: #D2E3FC;\n",
              "    }\n",
              "\n",
              "    [theme=dark] .colab-df-convert:hover {\n",
              "      background-color: #434B5C;\n",
              "      box-shadow: 0px 1px 3px 1px rgba(0, 0, 0, 0.15);\n",
              "      filter: drop-shadow(0px 1px 2px rgba(0, 0, 0, 0.3));\n",
              "      fill: #FFFFFF;\n",
              "    }\n",
              "  </style>\n",
              "\n",
              "      <script>\n",
              "        const buttonEl =\n",
              "          document.querySelector('#df-dcf9fbd5-2cb1-40bf-8cff-f99500be58eb button.colab-df-convert');\n",
              "        buttonEl.style.display =\n",
              "          google.colab.kernel.accessAllowed ? 'block' : 'none';\n",
              "\n",
              "        async function convertToInteractive(key) {\n",
              "          const element = document.querySelector('#df-dcf9fbd5-2cb1-40bf-8cff-f99500be58eb');\n",
              "          const dataTable =\n",
              "            await google.colab.kernel.invokeFunction('convertToInteractive',\n",
              "                                                     [key], {});\n",
              "          if (!dataTable) return;\n",
              "\n",
              "          const docLinkHtml = 'Like what you see? Visit the ' +\n",
              "            '<a target=\"_blank\" href=https://colab.research.google.com/notebooks/data_table.ipynb>data table notebook</a>'\n",
              "            + ' to learn more about interactive tables.';\n",
              "          element.innerHTML = '';\n",
              "          dataTable['output_type'] = 'display_data';\n",
              "          await google.colab.output.renderOutput(dataTable, element);\n",
              "          const docLink = document.createElement('div');\n",
              "          docLink.innerHTML = docLinkHtml;\n",
              "          element.appendChild(docLink);\n",
              "        }\n",
              "      </script>\n",
              "    </div>\n",
              "  </div>\n",
              "  "
            ]
          },
          "metadata": {}
        }
      ]
    },
    {
      "cell_type": "code",
      "source": [
        "from scipy.stats import pearsonr\n",
        "\n",
        "# Get the correlation and the p-value between gs and jaccard\n",
        "corr, p = pearsonr(dt['gs'], dt['Dependency triples individual'])\n",
        "print(\"Dependency triples as individual tokens -> Correlation coefficient:\", corr)\n",
        "print(\"p-value:\", p)\n",
        "\n",
        "\n",
        "corr, p = pearsonr(dt['gs'], dt['Dependency triples combined'])\n",
        "print(\"\\nDependency triples as combined tokens -> Correlation coefficient:\", corr)\n",
        "print(\"p-value:\", p)\n"
      ],
      "metadata": {
        "colab": {
          "base_uri": "https://localhost:8080/"
        },
        "id": "T1jtubDac0lo",
        "outputId": "9327a056-4b54-467c-9365-163c6abb74cd"
      },
      "execution_count": null,
      "outputs": [
        {
          "output_type": "stream",
          "name": "stdout",
          "text": [
            "Dependency triples as individual tokens -> Correlation coefficient: -0.3920083268561939\n",
            "p-value: 2.607070806691781e-18\n",
            "\n",
            "Dependency triples as combined tokens -> Correlation coefficient: -0.423509761438787\n",
            "p-value: 2.1109571758280608e-21\n"
          ]
        }
      ]
    },
    {
      "cell_type": "markdown",
      "source": [
        "# **Conclusion:**"
      ],
      "metadata": {
        "id": "9HdI7XVYc8qL"
      }
    },
    {
      "cell_type": "markdown",
      "source": [
        "In the code, triples from CoreNLPDependencyParserit are used in order to obtain the Jaccard Similarity and the Pearson Correlation.\n",
        "\n",
        "This implementation uses two different versions. Firstly, the sentences to be compared are expanded with tags and representations of their dependencies. This way in the comparison, similar tags and dependencies between sentences will lean towards a smaller Jaccard distance and a better similarity.\n",
        "\n",
        "The other implementation combines the root words, tags, and dependencies. This means that each triple is compared with the other. This should make the similarity, in general, lower, because the exact same triples need to match. However, this will also avoid false similarities and potentially increase the correlation.\n",
        "\n",
        "The result shows that this approach isolated doesn't increase the correlation to the gold standard. As an example, in an earlier version of the code, where the synsets were used, the correlation was -0.514. In this case, dependency triples as individual tokens gave as low as -0.392, while Dependency triples as combined tokens were slightly better but still worse, with a correlation of -0.424. During the testing, different combinations of doubles instead of triples have been tested, but no improvement in the results was registered.\n",
        "\n",
        "The reason for the poor outcome might be due to the fact that the dependencies of words isolated don't indicate if the meaning of a sentence is similar to another. \n",
        "\n",
        "NEs and dependencies might be a reasonable tool to detect similarities between sentences, but it has to be combined with other methods. For instance, it can be used to combine words into larger meanings."
      ],
      "metadata": {
        "id": "CrVqz1GAdEmG"
      }
    }
  ]
}